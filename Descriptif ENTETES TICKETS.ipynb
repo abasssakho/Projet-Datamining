{
 "cells": [
  {
   "cell_type": "code",
   "execution_count": null,
   "id": "4686aa09",
   "metadata": {},
   "outputs": [],
   "source": [
    "import numpy as np\n",
    "import pandas as pd\n",
    "import scipy.stats as stat\n",
    "import scipy.cluster as cluster\n",
    "import seaborn as sns\n",
    "import matplotlib.pyplot as plt"
   ]
  },
  {
   "cell_type": "code",
   "execution_count": 3,
   "id": "7a877ba6",
   "metadata": {},
   "outputs": [
    {
     "data": {
      "text/html": [
       "<div>\n",
       "<style scoped>\n",
       "    .dataframe tbody tr th:only-of-type {\n",
       "        vertical-align: middle;\n",
       "    }\n",
       "\n",
       "    .dataframe tbody tr th {\n",
       "        vertical-align: top;\n",
       "    }\n",
       "\n",
       "    .dataframe thead th {\n",
       "        text-align: right;\n",
       "    }\n",
       "</style>\n",
       "<table border=\"1\" class=\"dataframe\">\n",
       "  <thead>\n",
       "    <tr style=\"text-align: right;\">\n",
       "      <th></th>\n",
       "      <th>IDTICKET</th>\n",
       "      <th>TIC_DATE</th>\n",
       "      <th>MAG_CODE</th>\n",
       "      <th>IDCLIENT</th>\n",
       "      <th>TIC_TOTALTTC</th>\n",
       "    </tr>\n",
       "  </thead>\n",
       "  <tbody>\n",
       "    <tr>\n",
       "      <th>0</th>\n",
       "      <td>50100150510</td>\n",
       "      <td>2016-01-02 11:01:33</td>\n",
       "      <td>ALB</td>\n",
       "      <td>2995104.0</td>\n",
       "      <td>12,9</td>\n",
       "    </tr>\n",
       "    <tr>\n",
       "      <th>1</th>\n",
       "      <td>50100150511</td>\n",
       "      <td>2016-01-02 11:02:10</td>\n",
       "      <td>ALB</td>\n",
       "      <td>1411117.0</td>\n",
       "      <td>131,06</td>\n",
       "    </tr>\n",
       "    <tr>\n",
       "      <th>2</th>\n",
       "      <td>50100150515</td>\n",
       "      <td>2016-01-02 12:03:27</td>\n",
       "      <td>ALB</td>\n",
       "      <td>222592.0</td>\n",
       "      <td>34,69</td>\n",
       "    </tr>\n",
       "    <tr>\n",
       "      <th>3</th>\n",
       "      <td>50100150517</td>\n",
       "      <td>2016-01-02 14:23:21</td>\n",
       "      <td>ALB</td>\n",
       "      <td>2979958.0</td>\n",
       "      <td>97,58</td>\n",
       "    </tr>\n",
       "    <tr>\n",
       "      <th>4</th>\n",
       "      <td>50100150518</td>\n",
       "      <td>2016-01-02 14:26:53</td>\n",
       "      <td>ALB</td>\n",
       "      <td>2858676.0</td>\n",
       "      <td>4,7</td>\n",
       "    </tr>\n",
       "  </tbody>\n",
       "</table>\n",
       "</div>"
      ],
      "text/plain": [
       "      IDTICKET             TIC_DATE MAG_CODE   IDCLIENT TIC_TOTALTTC\n",
       "0  50100150510  2016-01-02 11:01:33      ALB  2995104.0         12,9\n",
       "1  50100150511  2016-01-02 11:02:10      ALB  1411117.0       131,06\n",
       "2  50100150515  2016-01-02 12:03:27      ALB   222592.0        34,69\n",
       "3  50100150517  2016-01-02 14:23:21      ALB  2979958.0        97,58\n",
       "4  50100150518  2016-01-02 14:26:53      ALB  2858676.0          4,7"
      ]
     },
     "execution_count": 3,
     "metadata": {},
     "output_type": "execute_result"
    }
   ],
   "source": [
    "ENTETE = pd.read_csv(\"ENTETES_TICKET_V4.csv\", delimiter=\"|\")\n",
    "df = ENTETE\n",
    "df.head()"
   ]
  },
  {
   "cell_type": "markdown",
   "id": "374d6024",
   "metadata": {},
   "source": [
    "### On remarque un clé commune MAG_CODE et MAGASIN dans la table CLIENT ; + ID CLIENT"
   ]
  },
  {
   "cell_type": "code",
   "execution_count": 4,
   "id": "5e7d8076",
   "metadata": {},
   "outputs": [
    {
     "data": {
      "text/plain": [
       "IDTICKET          int64\n",
       "TIC_DATE         object\n",
       "MAG_CODE         object\n",
       "IDCLIENT        float64\n",
       "TIC_TOTALTTC     object\n",
       "dtype: object"
      ]
     },
     "execution_count": 4,
     "metadata": {},
     "output_type": "execute_result"
    }
   ],
   "source": [
    "df.dtypes"
   ]
  },
  {
   "cell_type": "code",
   "execution_count": 7,
   "id": "f75b2650",
   "metadata": {},
   "outputs": [
    {
     "data": {
      "text/plain": [
       "(6714173, 5)"
      ]
     },
     "execution_count": 7,
     "metadata": {},
     "output_type": "execute_result"
    }
   ],
   "source": [
    "df.shape"
   ]
  },
  {
   "cell_type": "code",
   "execution_count": 8,
   "id": "ce7bca47",
   "metadata": {},
   "outputs": [
    {
     "data": {
      "text/plain": [
       "array(['ALB', 'ALM', 'AVI', 'BEA', 'BEC', 'BLA', 'BRE', 'CLA', 'DIJ',\n",
       "       'ECU', 'GAI', 'GEX', 'HAG', 'HEI', 'IAB', 'MAC', 'MET', 'MOB',\n",
       "       'MOU', 'MUL', 'OBE', 'PON', 'PRI', 'QUE', 'RAV', 'SEM', 'SEY',\n",
       "       'SGL', 'SSM', 'STE', 'THO', 'VAL', 'VAR', 'VIB', 'VIF', 'VIT',\n",
       "       'VLG', 'VIC', 'FRV', 'SJV', 'SCH', 'SAL', 'LAB', 'PEP', 'SMR',\n",
       "       'SUR', 'SNO', 'DUM', 'FEG', 'GAP', 'MAN', 'PEG', 'POC', 'EPN',\n",
       "       'VEN', 'ORL', 'SMA', 'CLI', 'SLM', 'BAR', 'VIV', 'STR', 'NEV',\n",
       "       'BSN', 'CAG', 'RMA'], dtype=object)"
      ]
     },
     "execution_count": 8,
     "metadata": {},
     "output_type": "execute_result"
    }
   ],
   "source": [
    "df.MAG_CODE.unique()"
   ]
  },
  {
   "cell_type": "code",
   "execution_count": 9,
   "id": "007f08db",
   "metadata": {},
   "outputs": [
    {
     "data": {
      "text/plain": [
       "770163"
      ]
     },
     "execution_count": 9,
     "metadata": {},
     "output_type": "execute_result"
    }
   ],
   "source": [
    "len(df.IDCLIENT.value_counts())"
   ]
  },
  {
   "cell_type": "markdown",
   "id": "1da9ab30",
   "metadata": {},
   "source": [
    "## pas le même nombe de ID clients que dans descriptif client"
   ]
  },
  {
   "cell_type": "code",
   "execution_count": 11,
   "id": "c6ad7283",
   "metadata": {},
   "outputs": [],
   "source": [
    "dup = df.duplicated().value_counts()"
   ]
  },
  {
   "cell_type": "code",
   "execution_count": 12,
   "id": "87fdac88",
   "metadata": {},
   "outputs": [
    {
     "data": {
      "text/plain": [
       "False    6714173\n",
       "dtype: int64"
      ]
     },
     "execution_count": 12,
     "metadata": {},
     "output_type": "execute_result"
    }
   ],
   "source": [
    "dup"
   ]
  },
  {
   "cell_type": "code",
   "execution_count": 14,
   "id": "c733a2e9",
   "metadata": {},
   "outputs": [
    {
     "data": {
      "text/plain": [
       "count     6714173\n",
       "unique      71567\n",
       "top         19,95\n",
       "freq        31879\n",
       "Name: TIC_TOTALTTC, dtype: object"
      ]
     },
     "execution_count": 14,
     "metadata": {},
     "output_type": "execute_result"
    }
   ],
   "source": [
    "df.TIC_TOTALTTC.describe()"
   ]
  },
  {
   "cell_type": "code",
   "execution_count": 17,
   "id": "b276f6bf",
   "metadata": {},
   "outputs": [
    {
     "ename": "AttributeError",
     "evalue": "'Series' object has no attribute 'stats'",
     "output_type": "error",
     "traceback": [
      "\u001b[1;31m---------------------------------------------------------------------------\u001b[0m",
      "\u001b[1;31mAttributeError\u001b[0m                            Traceback (most recent call last)",
      "\u001b[1;32m<ipython-input-17-4dcf540c424f>\u001b[0m in \u001b[0;36m<module>\u001b[1;34m\u001b[0m\n\u001b[1;32m----> 1\u001b[1;33m \u001b[0mdf\u001b[0m\u001b[1;33m.\u001b[0m\u001b[0mTIC_TOTALTTC\u001b[0m\u001b[1;33m.\u001b[0m\u001b[0mstats\u001b[0m\u001b[1;33m\u001b[0m\u001b[1;33m\u001b[0m\u001b[0m\n\u001b[0m",
      "\u001b[1;32m~\\anaconda3\\lib\\site-packages\\pandas\\core\\generic.py\u001b[0m in \u001b[0;36m__getattr__\u001b[1;34m(self, name)\u001b[0m\n\u001b[0;32m   5463\u001b[0m             \u001b[1;32mif\u001b[0m \u001b[0mself\u001b[0m\u001b[1;33m.\u001b[0m\u001b[0m_info_axis\u001b[0m\u001b[1;33m.\u001b[0m\u001b[0m_can_hold_identifiers_and_holds_name\u001b[0m\u001b[1;33m(\u001b[0m\u001b[0mname\u001b[0m\u001b[1;33m)\u001b[0m\u001b[1;33m:\u001b[0m\u001b[1;33m\u001b[0m\u001b[1;33m\u001b[0m\u001b[0m\n\u001b[0;32m   5464\u001b[0m                 \u001b[1;32mreturn\u001b[0m \u001b[0mself\u001b[0m\u001b[1;33m[\u001b[0m\u001b[0mname\u001b[0m\u001b[1;33m]\u001b[0m\u001b[1;33m\u001b[0m\u001b[1;33m\u001b[0m\u001b[0m\n\u001b[1;32m-> 5465\u001b[1;33m             \u001b[1;32mreturn\u001b[0m \u001b[0mobject\u001b[0m\u001b[1;33m.\u001b[0m\u001b[0m__getattribute__\u001b[0m\u001b[1;33m(\u001b[0m\u001b[0mself\u001b[0m\u001b[1;33m,\u001b[0m \u001b[0mname\u001b[0m\u001b[1;33m)\u001b[0m\u001b[1;33m\u001b[0m\u001b[1;33m\u001b[0m\u001b[0m\n\u001b[0m\u001b[0;32m   5466\u001b[0m \u001b[1;33m\u001b[0m\u001b[0m\n\u001b[0;32m   5467\u001b[0m     \u001b[1;32mdef\u001b[0m \u001b[0m__setattr__\u001b[0m\u001b[1;33m(\u001b[0m\u001b[0mself\u001b[0m\u001b[1;33m,\u001b[0m \u001b[0mname\u001b[0m\u001b[1;33m:\u001b[0m \u001b[0mstr\u001b[0m\u001b[1;33m,\u001b[0m \u001b[0mvalue\u001b[0m\u001b[1;33m)\u001b[0m \u001b[1;33m->\u001b[0m \u001b[1;32mNone\u001b[0m\u001b[1;33m:\u001b[0m\u001b[1;33m\u001b[0m\u001b[1;33m\u001b[0m\u001b[0m\n",
      "\u001b[1;31mAttributeError\u001b[0m: 'Series' object has no attribute 'stats'"
     ]
    }
   ],
   "source": [
    "df.TIC_TOTALTTC.stats"
   ]
  },
  {
   "cell_type": "code",
   "execution_count": 14,
   "id": "a800eed7",
   "metadata": {},
   "outputs": [
    {
     "data": {
      "text/plain": [
       "array([0, 1], dtype=int64)"
      ]
     },
     "execution_count": 14,
     "metadata": {},
     "output_type": "execute_result"
    }
   ],
   "source": []
  },
  {
   "cell_type": "code",
   "execution_count": 15,
   "id": "9119ae8a",
   "metadata": {},
   "outputs": [
    {
     "data": {
      "text/plain": [
       "array(['FR', 'CH', 'DE', 'BE', 'LU', 'GB', 'MC', 'ES', 'IT', nan, 'DZ',\n",
       "       'AD', 'RO', 'NL', 'US', 'SE', 'FI', 'SZ', 'AT', 'RU', 'PL', 'AF',\n",
       "       'CA', 'TN', 'BG', 'GR', 'JM', 'MA', 'GF', 'NO', 'AM', 'ZA', 'AE',\n",
       "       'MT', 'DK', 'LA', 'UA', 'LK', 'MQ', 'LV', 'VN', 'JP', 'GA', 'TR',\n",
       "       'GM', 'BR', 'PT', 'NC', 'SM'], dtype=object)"
      ]
     },
     "execution_count": 15,
     "metadata": {},
     "output_type": "execute_result"
    }
   ],
   "source": []
  },
  {
   "cell_type": "code",
   "execution_count": null,
   "id": "23eb0e44",
   "metadata": {},
   "outputs": [],
   "source": []
  },
  {
   "cell_type": "code",
   "execution_count": 16,
   "id": "20e76883",
   "metadata": {},
   "outputs": [
    {
     "data": {
      "text/plain": [
       "array(['74224', '74189', '63070', ..., '55507', '02420', '17172'],\n",
       "      dtype=object)"
      ]
     },
     "execution_count": 16,
     "metadata": {},
     "output_type": "execute_result"
    }
   ],
   "source": []
  },
  {
   "cell_type": "markdown",
   "id": "760acdb7",
   "metadata": {},
   "source": [
    "### Répartition sur les dates à faire"
   ]
  },
  {
   "cell_type": "code",
   "execution_count": null,
   "id": "f903a532",
   "metadata": {},
   "outputs": [],
   "source": []
  }
 ],
 "metadata": {
  "kernelspec": {
   "display_name": "Python 3",
   "language": "python",
   "name": "python3"
  },
  "language_info": {
   "codemirror_mode": {
    "name": "ipython",
    "version": 3
   },
   "file_extension": ".py",
   "mimetype": "text/x-python",
   "name": "python",
   "nbconvert_exporter": "python",
   "pygments_lexer": "ipython3",
   "version": "3.8.8"
  }
 },
 "nbformat": 4,
 "nbformat_minor": 5
}
