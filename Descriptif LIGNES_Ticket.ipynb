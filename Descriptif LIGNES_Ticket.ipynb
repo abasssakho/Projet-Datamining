{
 "cells": [
  {
   "cell_type": "code",
   "execution_count": 1,
   "id": "focused-encoding",
   "metadata": {},
   "outputs": [],
   "source": [
    "import numpy as np\n",
    "import pandas as pd\n",
    "import scipy.stats as stat\n",
    "import scipy.cluster as cluster\n",
    "import seaborn as sns\n",
    "import matplotlib.pyplot as plt"
   ]
  },
  {
   "cell_type": "code",
   "execution_count": 7,
   "id": "rational-soundtrack",
   "metadata": {},
   "outputs": [
    {
     "name": "stderr",
     "output_type": "stream",
     "text": [
      "C:\\Users\\charl\\anaconda3\\lib\\site-packages\\IPython\\core\\interactiveshell.py:3063: DtypeWarning: Columns (2) have mixed types.Specify dtype option on import or set low_memory=False.\n",
      "  interactivity=interactivity, compiler=compiler, result=result)\n"
     ]
    },
    {
     "data": {
      "text/html": [
       "<div>\n",
       "<style scoped>\n",
       "    .dataframe tbody tr th:only-of-type {\n",
       "        vertical-align: middle;\n",
       "    }\n",
       "\n",
       "    .dataframe tbody tr th {\n",
       "        vertical-align: top;\n",
       "    }\n",
       "\n",
       "    .dataframe thead th {\n",
       "        text-align: right;\n",
       "    }\n",
       "</style>\n",
       "<table border=\"1\" class=\"dataframe\">\n",
       "  <thead>\n",
       "    <tr style=\"text-align: right;\">\n",
       "      <th></th>\n",
       "      <th>IDTICKET</th>\n",
       "      <th>NUMLIGNETICKET</th>\n",
       "      <th>IDARTICLE</th>\n",
       "      <th>QUANTITE</th>\n",
       "      <th>MONTANTREMISE</th>\n",
       "      <th>TOTAL</th>\n",
       "      <th>MARGESORTIE</th>\n",
       "    </tr>\n",
       "  </thead>\n",
       "  <tbody>\n",
       "    <tr>\n",
       "      <th>0</th>\n",
       "      <td>190400316260</td>\n",
       "      <td>2</td>\n",
       "      <td>246208</td>\n",
       "      <td>1,000</td>\n",
       "      <td>,000</td>\n",
       "      <td>4,96</td>\n",
       "      <td>2,37</td>\n",
       "    </tr>\n",
       "    <tr>\n",
       "      <th>1</th>\n",
       "      <td>190400316262</td>\n",
       "      <td>2</td>\n",
       "      <td>33725</td>\n",
       "      <td>1,000</td>\n",
       "      <td>,000</td>\n",
       "      <td>8,25</td>\n",
       "      <td>3,63</td>\n",
       "    </tr>\n",
       "    <tr>\n",
       "      <th>2</th>\n",
       "      <td>190400316262</td>\n",
       "      <td>3</td>\n",
       "      <td>634497</td>\n",
       "      <td>1,000</td>\n",
       "      <td>,000</td>\n",
       "      <td>5,79</td>\n",
       "      <td>3,63</td>\n",
       "    </tr>\n",
       "    <tr>\n",
       "      <th>3</th>\n",
       "      <td>190400316262</td>\n",
       "      <td>1</td>\n",
       "      <td>257613</td>\n",
       "      <td>1,000</td>\n",
       "      <td>,000</td>\n",
       "      <td>18,29</td>\n",
       "      <td>6,21</td>\n",
       "    </tr>\n",
       "    <tr>\n",
       "      <th>4</th>\n",
       "      <td>190400316263</td>\n",
       "      <td>1</td>\n",
       "      <td>257627</td>\n",
       "      <td>1,000</td>\n",
       "      <td>,000</td>\n",
       "      <td>49,92</td>\n",
       "      <td>10,42</td>\n",
       "    </tr>\n",
       "  </tbody>\n",
       "</table>\n",
       "</div>"
      ],
      "text/plain": [
       "       IDTICKET  NUMLIGNETICKET IDARTICLE QUANTITE MONTANTREMISE  TOTAL  \\\n",
       "0  190400316260               2    246208    1,000          ,000   4,96   \n",
       "1  190400316262               2     33725    1,000          ,000   8,25   \n",
       "2  190400316262               3    634497    1,000          ,000   5,79   \n",
       "3  190400316262               1    257613    1,000          ,000  18,29   \n",
       "4  190400316263               1    257627    1,000          ,000  49,92   \n",
       "\n",
       "  MARGESORTIE  \n",
       "0        2,37  \n",
       "1        3,63  \n",
       "2        3,63  \n",
       "3        6,21  \n",
       "4       10,42  "
      ]
     },
     "execution_count": 7,
     "metadata": {},
     "output_type": "execute_result"
    }
   ],
   "source": [
    "LIGNE = pd.read_csv(\"LIGNES_TICKET_V4.csv\", delimiter=\"|\")\n",
    "df = LIGNE\n",
    "df.head()"
   ]
  },
  {
   "cell_type": "code",
   "execution_count": 8,
   "id": "quantitative-lawsuit",
   "metadata": {},
   "outputs": [
    {
     "data": {
      "text/plain": [
       "IDTICKET           int64\n",
       "NUMLIGNETICKET     int64\n",
       "IDARTICLE         object\n",
       "QUANTITE          object\n",
       "MONTANTREMISE     object\n",
       "TOTAL             object\n",
       "MARGESORTIE       object\n",
       "dtype: object"
      ]
     },
     "execution_count": 8,
     "metadata": {},
     "output_type": "execute_result"
    }
   ],
   "source": [
    "df.dtypes"
   ]
  },
  {
   "cell_type": "code",
   "execution_count": 4,
   "id": "spare-trademark",
   "metadata": {},
   "outputs": [
    {
     "data": {
      "text/plain": [
       "(665946, 4)"
      ]
     },
     "execution_count": 4,
     "metadata": {},
     "output_type": "execute_result"
    }
   ],
   "source": [
    "df.shape"
   ]
  },
  {
   "cell_type": "code",
   "execution_count": 5,
   "id": "important-corner",
   "metadata": {},
   "outputs": [
    {
     "data": {
      "text/plain": [
       "False    665946\n",
       "dtype: int64"
      ]
     },
     "execution_count": 5,
     "metadata": {},
     "output_type": "execute_result"
    }
   ],
   "source": [
    "dup = df.duplicated().value_counts()\n",
    "dup"
   ]
  },
  {
   "cell_type": "code",
   "execution_count": null,
   "id": "surprised-updating",
   "metadata": {},
   "outputs": [],
   "source": []
  }
 ],
 "metadata": {
  "kernelspec": {
   "display_name": "Python 3",
   "language": "python",
   "name": "python3"
  },
  "language_info": {
   "codemirror_mode": {
    "name": "ipython",
    "version": 3
   },
   "file_extension": ".py",
   "mimetype": "text/x-python",
   "name": "python",
   "nbconvert_exporter": "python",
   "pygments_lexer": "ipython3",
   "version": "3.7.6"
  }
 },
 "nbformat": 4,
 "nbformat_minor": 5
}
