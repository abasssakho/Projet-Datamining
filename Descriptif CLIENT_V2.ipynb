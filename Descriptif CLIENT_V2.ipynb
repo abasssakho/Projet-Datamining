{
 "cells": [
  {
   "cell_type": "code",
   "execution_count": 2,
   "id": "e131c049-1c98-4d9b-bcda-321df641fda3",
   "metadata": {},
   "outputs": [
    {
     "name": "stdout",
     "output_type": "stream",
     "text": [
      "Collecting jupyterthemes\n",
      "  Downloading jupyterthemes-0.20.0-py2.py3-none-any.whl (7.0 MB)\n",
      "Requirement already satisfied: ipython>=5.4.1 in c:\\users\\user dell\\anaconda3\\lib\\site-packages (from jupyterthemes) (7.22.0)\n",
      "Requirement already satisfied: matplotlib>=1.4.3 in c:\\users\\user dell\\anaconda3\\lib\\site-packages (from jupyterthemes) (3.3.4)\n",
      "Collecting lesscpy>=0.11.2\n",
      "  Downloading lesscpy-0.15.0-py2.py3-none-any.whl (46 kB)\n",
      "Requirement already satisfied: notebook>=5.6.0 in c:\\users\\user dell\\anaconda3\\lib\\site-packages (from jupyterthemes) (6.3.0)\n",
      "Requirement already satisfied: jupyter-core in c:\\users\\user dell\\anaconda3\\lib\\site-packages (from jupyterthemes) (4.7.1)\n",
      "Requirement already satisfied: pygments in c:\\users\\user dell\\anaconda3\\lib\\site-packages (from ipython>=5.4.1->jupyterthemes) (2.8.1)\n",
      "Requirement already satisfied: colorama in c:\\users\\user dell\\anaconda3\\lib\\site-packages (from ipython>=5.4.1->jupyterthemes) (0.4.4)\n",
      "Requirement already satisfied: prompt-toolkit!=3.0.0,!=3.0.1,<3.1.0,>=2.0.0 in c:\\users\\user dell\\anaconda3\\lib\\site-packages (from ipython>=5.4.1->jupyterthemes) (3.0.17)\n",
      "Requirement already satisfied: pickleshare in c:\\users\\user dell\\anaconda3\\lib\\site-packages (from ipython>=5.4.1->jupyterthemes) (0.7.5)\n",
      "Requirement already satisfied: setuptools>=18.5 in c:\\users\\user dell\\anaconda3\\lib\\site-packages (from ipython>=5.4.1->jupyterthemes) (52.0.0.post20210125)\n",
      "Requirement already satisfied: backcall in c:\\users\\user dell\\anaconda3\\lib\\site-packages (from ipython>=5.4.1->jupyterthemes) (0.2.0)\n",
      "Requirement already satisfied: decorator in c:\\users\\user dell\\anaconda3\\lib\\site-packages (from ipython>=5.4.1->jupyterthemes) (5.0.6)\n",
      "Requirement already satisfied: jedi>=0.16 in c:\\users\\user dell\\anaconda3\\lib\\site-packages (from ipython>=5.4.1->jupyterthemes) (0.17.2)\n",
      "Requirement already satisfied: traitlets>=4.2 in c:\\users\\user dell\\anaconda3\\lib\\site-packages (from ipython>=5.4.1->jupyterthemes) (5.0.5)\n",
      "Requirement already satisfied: parso<0.8.0,>=0.7.0 in c:\\users\\user dell\\anaconda3\\lib\\site-packages (from jedi>=0.16->ipython>=5.4.1->jupyterthemes) (0.7.0)\n",
      "Requirement already satisfied: six in c:\\users\\user dell\\anaconda3\\lib\\site-packages (from lesscpy>=0.11.2->jupyterthemes) (1.15.0)\n",
      "Requirement already satisfied: ply in c:\\users\\user dell\\anaconda3\\lib\\site-packages (from lesscpy>=0.11.2->jupyterthemes) (3.11)\n",
      "Requirement already satisfied: kiwisolver>=1.0.1 in c:\\users\\user dell\\anaconda3\\lib\\site-packages (from matplotlib>=1.4.3->jupyterthemes) (1.3.1)\n",
      "Requirement already satisfied: numpy>=1.15 in c:\\users\\user dell\\anaconda3\\lib\\site-packages (from matplotlib>=1.4.3->jupyterthemes) (1.20.1)\n",
      "Requirement already satisfied: pillow>=6.2.0 in c:\\users\\user dell\\anaconda3\\lib\\site-packages (from matplotlib>=1.4.3->jupyterthemes) (8.2.0)\n",
      "Requirement already satisfied: cycler>=0.10 in c:\\users\\user dell\\anaconda3\\lib\\site-packages (from matplotlib>=1.4.3->jupyterthemes) (0.10.0)\n",
      "Requirement already satisfied: pyparsing!=2.0.4,!=2.1.2,!=2.1.6,>=2.0.3 in c:\\users\\user dell\\anaconda3\\lib\\site-packages (from matplotlib>=1.4.3->jupyterthemes) (2.4.7)\n",
      "Requirement already satisfied: python-dateutil>=2.1 in c:\\users\\user dell\\anaconda3\\lib\\site-packages (from matplotlib>=1.4.3->jupyterthemes) (2.8.1)\n",
      "Requirement already satisfied: prometheus-client in c:\\users\\user dell\\anaconda3\\lib\\site-packages (from notebook>=5.6.0->jupyterthemes) (0.10.1)\n",
      "Requirement already satisfied: jinja2 in c:\\users\\user dell\\anaconda3\\lib\\site-packages (from notebook>=5.6.0->jupyterthemes) (2.11.3)\n",
      "Requirement already satisfied: jupyter-client>=5.3.4 in c:\\users\\user dell\\anaconda3\\lib\\site-packages (from notebook>=5.6.0->jupyterthemes) (6.1.12)\n",
      "Requirement already satisfied: argon2-cffi in c:\\users\\user dell\\anaconda3\\lib\\site-packages (from notebook>=5.6.0->jupyterthemes) (20.1.0)\n",
      "Requirement already satisfied: ipykernel in c:\\users\\user dell\\anaconda3\\lib\\site-packages (from notebook>=5.6.0->jupyterthemes) (5.3.4)\n",
      "Requirement already satisfied: terminado>=0.8.3 in c:\\users\\user dell\\anaconda3\\lib\\site-packages (from notebook>=5.6.0->jupyterthemes) (0.9.4)\n",
      "Requirement already satisfied: nbconvert in c:\\users\\user dell\\anaconda3\\lib\\site-packages (from notebook>=5.6.0->jupyterthemes) (6.0.7)\n",
      "Requirement already satisfied: Send2Trash>=1.5.0 in c:\\users\\user dell\\anaconda3\\lib\\site-packages (from notebook>=5.6.0->jupyterthemes) (1.5.0)\n",
      "Requirement already satisfied: ipython-genutils in c:\\users\\user dell\\anaconda3\\lib\\site-packages (from notebook>=5.6.0->jupyterthemes) (0.2.0)\n",
      "Requirement already satisfied: pyzmq>=17 in c:\\users\\user dell\\anaconda3\\lib\\site-packages (from notebook>=5.6.0->jupyterthemes) (20.0.0)\n",
      "Requirement already satisfied: tornado>=6.1 in c:\\users\\user dell\\anaconda3\\lib\\site-packages (from notebook>=5.6.0->jupyterthemes) (6.1)\n",
      "Requirement already satisfied: nbformat in c:\\users\\user dell\\anaconda3\\lib\\site-packages (from notebook>=5.6.0->jupyterthemes) (5.1.3)\n",
      "Requirement already satisfied: pywin32>=1.0 in c:\\users\\user dell\\anaconda3\\lib\\site-packages (from jupyter-core->jupyterthemes) (227)\n",
      "Requirement already satisfied: wcwidth in c:\\users\\user dell\\anaconda3\\lib\\site-packages (from prompt-toolkit!=3.0.0,!=3.0.1,<3.1.0,>=2.0.0->ipython>=5.4.1->jupyterthemes) (0.2.5)\n",
      "Requirement already satisfied: pywinpty>=0.5 in c:\\users\\user dell\\anaconda3\\lib\\site-packages (from terminado>=0.8.3->notebook>=5.6.0->jupyterthemes) (0.5.7)\n",
      "Requirement already satisfied: cffi>=1.0.0 in c:\\users\\user dell\\anaconda3\\lib\\site-packages (from argon2-cffi->notebook>=5.6.0->jupyterthemes) (1.14.5)\n",
      "Requirement already satisfied: pycparser in c:\\users\\user dell\\anaconda3\\lib\\site-packages (from cffi>=1.0.0->argon2-cffi->notebook>=5.6.0->jupyterthemes) (2.20)\n",
      "Requirement already satisfied: MarkupSafe>=0.23 in c:\\users\\user dell\\anaconda3\\lib\\site-packages (from jinja2->notebook>=5.6.0->jupyterthemes) (1.1.1)\n",
      "Requirement already satisfied: nbclient<0.6.0,>=0.5.0 in c:\\users\\user dell\\anaconda3\\lib\\site-packages (from nbconvert->notebook>=5.6.0->jupyterthemes) (0.5.3)\n",
      "Requirement already satisfied: testpath in c:\\users\\user dell\\anaconda3\\lib\\site-packages (from nbconvert->notebook>=5.6.0->jupyterthemes) (0.4.4)\n",
      "Requirement already satisfied: jupyterlab-pygments in c:\\users\\user dell\\anaconda3\\lib\\site-packages (from nbconvert->notebook>=5.6.0->jupyterthemes) (0.1.2)\n",
      "Requirement already satisfied: entrypoints>=0.2.2 in c:\\users\\user dell\\anaconda3\\lib\\site-packages (from nbconvert->notebook>=5.6.0->jupyterthemes) (0.3)\n",
      "Requirement already satisfied: bleach in c:\\users\\user dell\\anaconda3\\lib\\site-packages (from nbconvert->notebook>=5.6.0->jupyterthemes) (3.3.0)\n",
      "Requirement already satisfied: defusedxml in c:\\users\\user dell\\anaconda3\\lib\\site-packages (from nbconvert->notebook>=5.6.0->jupyterthemes) (0.7.1)\n",
      "Requirement already satisfied: pandocfilters>=1.4.1 in c:\\users\\user dell\\anaconda3\\lib\\site-packages (from nbconvert->notebook>=5.6.0->jupyterthemes) (1.4.3)\n",
      "Requirement already satisfied: mistune<2,>=0.8.1 in c:\\users\\user dell\\anaconda3\\lib\\site-packages (from nbconvert->notebook>=5.6.0->jupyterthemes) (0.8.4)\n",
      "Requirement already satisfied: async-generator in c:\\users\\user dell\\anaconda3\\lib\\site-packages (from nbclient<0.6.0,>=0.5.0->nbconvert->notebook>=5.6.0->jupyterthemes) (1.10)\n",
      "Requirement already satisfied: nest-asyncio in c:\\users\\user dell\\anaconda3\\lib\\site-packages (from nbclient<0.6.0,>=0.5.0->nbconvert->notebook>=5.6.0->jupyterthemes) (1.5.1)\n",
      "Requirement already satisfied: jsonschema!=2.5.0,>=2.4 in c:\\users\\user dell\\anaconda3\\lib\\site-packages (from nbformat->notebook>=5.6.0->jupyterthemes) (3.2.0)\n",
      "Requirement already satisfied: pyrsistent>=0.14.0 in c:\\users\\user dell\\anaconda3\\lib\\site-packages (from jsonschema!=2.5.0,>=2.4->nbformat->notebook>=5.6.0->jupyterthemes) (0.17.3)\n",
      "Requirement already satisfied: attrs>=17.4.0 in c:\\users\\user dell\\anaconda3\\lib\\site-packages (from jsonschema!=2.5.0,>=2.4->nbformat->notebook>=5.6.0->jupyterthemes) (20.3.0)\n",
      "Requirement already satisfied: packaging in c:\\users\\user dell\\anaconda3\\lib\\site-packages (from bleach->nbconvert->notebook>=5.6.0->jupyterthemes) (20.9)\n",
      "Requirement already satisfied: webencodings in c:\\users\\user dell\\anaconda3\\lib\\site-packages (from bleach->nbconvert->notebook>=5.6.0->jupyterthemes) (0.5.1)\n",
      "Installing collected packages: lesscpy, jupyterthemes\n",
      "Successfully installed jupyterthemes-0.20.0 lesscpy-0.15.0\n"
     ]
    }
   ],
   "source": [
    "!pip install jupyterthemes"
   ]
  },
  {
   "cell_type": "code",
   "execution_count": 3,
   "id": "cae2b45c-6f5a-42b4-909a-deb1415b6712",
   "metadata": {},
   "outputs": [
    {
     "name": "stdout",
     "output_type": "stream",
     "text": [
      "Available Themes: \n",
      "   chesterish\n",
      "   grade3\n",
      "   gruvboxd\n",
      "   gruvboxl\n",
      "   monokai\n",
      "   oceans16\n",
      "   onedork\n",
      "   solarizedd\n",
      "   solarizedl\n"
     ]
    }
   ],
   "source": [
    "!jt -l"
   ]
  },
  {
   "cell_type": "code",
   "execution_count": 6,
   "id": "90af1664-1ed5-47bd-9da3-64d0996c9b15",
   "metadata": {},
   "outputs": [],
   "source": [
    "!jt -t onedork"
   ]
  },
  {
   "cell_type": "code",
   "execution_count": null,
   "id": "03ba84bb-5624-48b8-a223-17d70572a786",
   "metadata": {},
   "outputs": [],
   "source": []
  },
  {
   "cell_type": "code",
   "execution_count": 1,
   "id": "positive-finish",
   "metadata": {},
   "outputs": [],
   "source": [
    "import numpy as np\n",
    "import pandas as pd\n",
    "import scipy.stats as stat\n",
    "import scipy.cluster as cluster\n",
    "import seaborn as sns\n",
    "import matplotlib.pyplot as plt\n",
    "import datetime as dt"
   ]
  },
  {
   "cell_type": "code",
   "execution_count": 2,
   "id": "hundred-stanford",
   "metadata": {},
   "outputs": [],
   "source": [
    "pd.set_option('display.max_rows', None)\n",
    "pd.set_option('display.max_columns', None)\n",
    "pd.set_option('display.width', None)\n",
    "pd.set_option('display.max_colwidth', None)\n"
   ]
  },
  {
   "cell_type": "code",
   "execution_count": 3,
   "id": "sealed-insight",
   "metadata": {},
   "outputs": [
    {
     "name": "stderr",
     "output_type": "stream",
     "text": [
      "C:\\Users\\charl\\anaconda3\\lib\\site-packages\\IPython\\core\\interactiveshell.py:3063: DtypeWarning: Columns (8) have mixed types.Specify dtype option on import or set low_memory=False.\n",
      "  interactivity=interactivity, compiler=compiler, result=result)\n"
     ]
    },
    {
     "data": {
      "text/html": [
       "<div>\n",
       "<style scoped>\n",
       "    .dataframe tbody tr th:only-of-type {\n",
       "        vertical-align: middle;\n",
       "    }\n",
       "\n",
       "    .dataframe tbody tr th {\n",
       "        vertical-align: top;\n",
       "    }\n",
       "\n",
       "    .dataframe thead th {\n",
       "        text-align: right;\n",
       "    }\n",
       "</style>\n",
       "<table border=\"1\" class=\"dataframe\">\n",
       "  <thead>\n",
       "    <tr style=\"text-align: right;\">\n",
       "      <th></th>\n",
       "      <th>IDCLIENT</th>\n",
       "      <th>CIVILITE</th>\n",
       "      <th>DATENAISSANCE</th>\n",
       "      <th>MAGASIN</th>\n",
       "      <th>DATEDEBUTADHESION</th>\n",
       "      <th>DATEREADHESION</th>\n",
       "      <th>DATEFINADHESION</th>\n",
       "      <th>VIP</th>\n",
       "      <th>CODEINSEE</th>\n",
       "      <th>PAYS</th>\n",
       "    </tr>\n",
       "  </thead>\n",
       "  <tbody>\n",
       "    <tr>\n",
       "      <th>0</th>\n",
       "      <td>155891.0</td>\n",
       "      <td>MADAME</td>\n",
       "      <td>NaN</td>\n",
       "      <td>VLG</td>\n",
       "      <td>2005-05-13</td>\n",
       "      <td>2017-04-04</td>\n",
       "      <td>2018-04-30</td>\n",
       "      <td>0</td>\n",
       "      <td>74224</td>\n",
       "      <td>FR</td>\n",
       "    </tr>\n",
       "    <tr>\n",
       "      <th>1</th>\n",
       "      <td>156023.0</td>\n",
       "      <td>MONSIEUR</td>\n",
       "      <td>7/08/1966 0:00:00</td>\n",
       "      <td>VLG</td>\n",
       "      <td>2005-05-14</td>\n",
       "      <td>2014-06-21</td>\n",
       "      <td>2016-06-30</td>\n",
       "      <td>0</td>\n",
       "      <td>74189</td>\n",
       "      <td>FR</td>\n",
       "    </tr>\n",
       "    <tr>\n",
       "      <th>2</th>\n",
       "      <td>124203.0</td>\n",
       "      <td>MADAME</td>\n",
       "      <td>NaN</td>\n",
       "      <td>BEA</td>\n",
       "      <td>2005-03-16</td>\n",
       "      <td>2017-12-10</td>\n",
       "      <td>2018-10-31</td>\n",
       "      <td>0</td>\n",
       "      <td>63070</td>\n",
       "      <td>FR</td>\n",
       "    </tr>\n",
       "    <tr>\n",
       "      <th>3</th>\n",
       "      <td>156190.0</td>\n",
       "      <td>MADAME</td>\n",
       "      <td>24/07/1976 0:00:00</td>\n",
       "      <td>SUR</td>\n",
       "      <td>2006-08-28</td>\n",
       "      <td>2015-05-24</td>\n",
       "      <td>2016-05-31</td>\n",
       "      <td>0</td>\n",
       "      <td>92026</td>\n",
       "      <td>FR</td>\n",
       "    </tr>\n",
       "    <tr>\n",
       "      <th>4</th>\n",
       "      <td>144444.0</td>\n",
       "      <td>MONSIEUR</td>\n",
       "      <td>NaN</td>\n",
       "      <td>LAB</td>\n",
       "      <td>2006-04-29</td>\n",
       "      <td>2016-12-18</td>\n",
       "      <td>2017-12-31</td>\n",
       "      <td>0</td>\n",
       "      <td>31555</td>\n",
       "      <td>FR</td>\n",
       "    </tr>\n",
       "  </tbody>\n",
       "</table>\n",
       "</div>"
      ],
      "text/plain": [
       "   IDCLIENT  CIVILITE       DATENAISSANCE MAGASIN DATEDEBUTADHESION  \\\n",
       "0  155891.0    MADAME                 NaN     VLG        2005-05-13   \n",
       "1  156023.0  MONSIEUR   7/08/1966 0:00:00     VLG        2005-05-14   \n",
       "2  124203.0    MADAME                 NaN     BEA        2005-03-16   \n",
       "3  156190.0    MADAME  24/07/1976 0:00:00     SUR        2006-08-28   \n",
       "4  144444.0  MONSIEUR                 NaN     LAB        2006-04-29   \n",
       "\n",
       "  DATEREADHESION DATEFINADHESION  VIP CODEINSEE PAYS  \n",
       "0     2017-04-04      2018-04-30    0     74224   FR  \n",
       "1     2014-06-21      2016-06-30    0     74189   FR  \n",
       "2     2017-12-10      2018-10-31    0     63070   FR  \n",
       "3     2015-05-24      2016-05-31    0     92026   FR  \n",
       "4     2016-12-18      2017-12-31    0     31555   FR  "
      ]
     },
     "execution_count": 3,
     "metadata": {},
     "output_type": "execute_result"
    }
   ],
   "source": [
    "client = pd.read_csv(\"CLIENT.csv\", delimiter=\"|\",parse_dates = ['DATENAISSANCE', 'DATEDEBUTADHESION', 'DATEREADHESION', 'DATEFINADHESION'])\n",
    "client.head()"
   ]
  },
  {
   "cell_type": "code",
   "execution_count": 4,
   "id": "sound-mozambique",
   "metadata": {},
   "outputs": [],
   "source": [
    "client['DATENAISSANCE'] = pd.to_datetime(client['DATENAISSANCE'], errors='coerce')"
   ]
  },
  {
   "cell_type": "code",
   "execution_count": 67,
   "id": "duplicate-louis",
   "metadata": {},
   "outputs": [
    {
     "data": {
      "text/plain": [
       "IDCLIENT                    float64\n",
       "CIVILITE                     object\n",
       "DATENAISSANCE        datetime64[ns]\n",
       "MAGASIN                      object\n",
       "DATEDEBUTADHESION    datetime64[ns]\n",
       "DATEREADHESION       datetime64[ns]\n",
       "DATEFINADHESION      datetime64[ns]\n",
       "VIP                           int64\n",
       "CODEINSEE                    object\n",
       "PAYS                         object\n",
       "dtype: object"
      ]
     },
     "execution_count": 67,
     "metadata": {},
     "output_type": "execute_result"
    }
   ],
   "source": [
    "client.dtypes"
   ]
  },
  {
   "cell_type": "code",
   "execution_count": null,
   "id": "meaningful-season",
   "metadata": {},
   "outputs": [],
   "source": []
  },
  {
   "cell_type": "code",
   "execution_count": 6,
   "id": "mathematical-botswana",
   "metadata": {},
   "outputs": [
    {
     "data": {
      "text/plain": [
       "(845876, 10)"
      ]
     },
     "execution_count": 6,
     "metadata": {},
     "output_type": "execute_result"
    }
   ],
   "source": [
    "client.shape"
   ]
  },
  {
   "cell_type": "code",
   "execution_count": 39,
   "id": "legal-particular",
   "metadata": {},
   "outputs": [
    {
     "data": {
      "text/plain": [
       "IDCLIENT                  0\n",
       "CIVILITE                  0\n",
       "DATENAISSANCE        337974\n",
       "MAGASIN                   0\n",
       "DATEDEBUTADHESION         0\n",
       "DATEREADHESION       338060\n",
       "DATEFINADHESION           0\n",
       "VIP                       0\n",
       "CODEINSEE             27421\n",
       "PAYS                      3\n",
       "dtype: int64"
      ]
     },
     "execution_count": 39,
     "metadata": {},
     "output_type": "execute_result"
    }
   ],
   "source": [
    "client.isna().sum()"
   ]
  },
  {
   "cell_type": "code",
   "execution_count": 42,
   "id": "developing-immunology",
   "metadata": {},
   "outputs": [
    {
     "name": "stdout",
     "output_type": "stream",
     "text": [
      "<class 'pandas.core.frame.DataFrame'>\n",
      "RangeIndex: 845876 entries, 0 to 845875\n",
      "Data columns (total 10 columns):\n",
      " #   Column             Non-Null Count   Dtype  \n",
      "---  ------             --------------   -----  \n",
      " 0   IDCLIENT           845876 non-null  float64\n",
      " 1   CIVILITE           845876 non-null  object \n",
      " 2   DATENAISSANCE      507902 non-null  object \n",
      " 3   MAGASIN            845876 non-null  object \n",
      " 4   DATEDEBUTADHESION  845876 non-null  object \n",
      " 5   DATEREADHESION     507816 non-null  object \n",
      " 6   DATEFINADHESION    845876 non-null  object \n",
      " 7   VIP                845876 non-null  int64  \n",
      " 8   CODEINSEE          818455 non-null  object \n",
      " 9   PAYS               845873 non-null  object \n",
      "dtypes: float64(1), int64(1), object(8)\n",
      "memory usage: 64.5+ MB\n"
     ]
    }
   ],
   "source": [
    "client.info()"
   ]
  },
  {
   "cell_type": "code",
   "execution_count": 7,
   "id": "instant-chamber",
   "metadata": {},
   "outputs": [
    {
     "data": {
      "text/plain": [
       "array(['MADAME', 'MONSIEUR', 'monsieur', 'madame', 'Mme', 'Mr'],\n",
       "      dtype=object)"
      ]
     },
     "execution_count": 7,
     "metadata": {},
     "output_type": "execute_result"
    }
   ],
   "source": [
    "client.CIVILITE.unique()"
   ]
  },
  {
   "cell_type": "markdown",
   "id": "negative-laptop",
   "metadata": {},
   "source": [
    "### il faut nettoyer : Mr = MONSIEUR etc etc"
   ]
  },
  {
   "cell_type": "code",
   "execution_count": 111,
   "id": "geographic-atlantic",
   "metadata": {},
   "outputs": [],
   "source": [
    "client[\"CIVILITE\"].replace({\"Mr\": \"MONSIEUR\",  \"Mme\": \"MADAME\"}, inplace=True)"
   ]
  },
  {
   "cell_type": "code",
   "execution_count": 112,
   "id": "robust-oliver",
   "metadata": {},
   "outputs": [],
   "source": [
    "client[\"CIVILITE\"].replace({\"monsieur\": \"MONSIEUR\",  \"madame\": \"MADAME\"}, inplace=True)"
   ]
  },
  {
   "cell_type": "code",
   "execution_count": 113,
   "id": "satellite-panel",
   "metadata": {},
   "outputs": [
    {
     "data": {
      "text/plain": [
       "array(['MADAME', 'MONSIEUR'], dtype=object)"
      ]
     },
     "execution_count": 113,
     "metadata": {},
     "output_type": "execute_result"
    }
   ],
   "source": [
    "client.CIVILITE.unique()"
   ]
  },
  {
   "cell_type": "markdown",
   "id": "different-kernel",
   "metadata": {},
   "source": [
    "### Repart h/f"
   ]
  },
  {
   "cell_type": "code",
   "execution_count": 114,
   "id": "asian-student",
   "metadata": {},
   "outputs": [
    {
     "data": {
      "text/plain": [
       "MADAME      457691\n",
       "MONSIEUR    388185\n",
       "Name: CIVILITE, dtype: int64"
      ]
     },
     "execution_count": 114,
     "metadata": {},
     "output_type": "execute_result"
    }
   ],
   "source": [
    "client.CIVILITE.value_counts()"
   ]
  },
  {
   "cell_type": "code",
   "execution_count": 122,
   "id": "coordinated-drawing",
   "metadata": {},
   "outputs": [
    {
     "data": {
      "image/png": "[encoded data removed]",
      "text/plain": [
       "<Figure size 432x288 with 1 Axes>"
      ]
     },
     "metadata": {},
     "output_type": "display_data"
    }
   ],
   "source": [
    "dfl = client.groupby('CIVILITE')['CIVILITE'].count()\n",
    "dfl.plot(kind='pie', subplots = True, autopct='%1.0f%%');"
   ]
  },
  {
   "cell_type": "markdown",
   "id": "spanish-binary",
   "metadata": {},
   "source": [
    "### Dates de naissances"
   ]
  },
  {
   "cell_type": "code",
   "execution_count": null,
   "id": "august-amateur",
   "metadata": {},
   "outputs": [],
   "source": []
  },
  {
   "cell_type": "code",
   "execution_count": 68,
   "id": "combined-andrews",
   "metadata": {},
   "outputs": [
    {
     "name": "stderr",
     "output_type": "stream",
     "text": [
      "C:\\Users\\charl\\anaconda3\\lib\\site-packages\\ipykernel_launcher.py:1: FutureWarning: Treating datetime data as categorical rather than numeric in `.describe` is deprecated and will be removed in a future version of pandas. Specify `datetime_is_numeric=True` to silence this warning and adopt the future behavior now.\n",
      "  \"\"\"Entry point for launching an IPython kernel.\n"
     ]
    },
    {
     "data": {
      "text/plain": [
       "count                  507852\n",
       "unique                  27819\n",
       "top       1970-01-10 00:00:00\n",
       "freq                      680\n",
       "first     1771-07-12 00:00:00\n",
       "last      2198-01-17 00:00:00\n",
       "Name: DATENAISSANCE, dtype: object"
      ]
     },
     "execution_count": 68,
     "metadata": {},
     "output_type": "execute_result"
    }
   ],
   "source": [
    "client.DATENAISSANCE.describe()"
   ]
  },
  {
   "cell_type": "code",
   "execution_count": 102,
   "id": "retained-induction",
   "metadata": {},
   "outputs": [
    {
     "data": {
      "text/plain": [
       "338024"
      ]
     },
     "execution_count": 102,
     "metadata": {},
     "output_type": "execute_result"
    }
   ],
   "source": [
    "client.DATENAISSANCE.isnull().sum()"
   ]
  },
  {
   "cell_type": "code",
   "execution_count": 103,
   "id": "empty-orientation",
   "metadata": {},
   "outputs": [
    {
     "data": {
      "text/plain": [
       "1970-01-10    680\n",
       "1973-03-07     53\n",
       "1967-11-05     52\n",
       "1973-07-02     51\n",
       "1973-09-21     51\n",
       "             ... \n",
       "2013-12-22      1\n",
       "1927-09-12      1\n",
       "2009-01-03      1\n",
       "1923-01-05      1\n",
       "1927-02-09      1\n",
       "Name: DATENAISSANCE, Length: 27819, dtype: int64"
      ]
     },
     "execution_count": 103,
     "metadata": {},
     "output_type": "execute_result"
    }
   ],
   "source": [
    "client.DATENAISSANCE.value_counts()"
   ]
  },
  {
   "cell_type": "code",
   "execution_count": 70,
   "id": "warming-amazon",
   "metadata": {},
   "outputs": [
    {
     "data": {
      "text/plain": [
       "<matplotlib.axes._subplots.AxesSubplot at 0x1aec01ee848>"
      ]
     },
     "execution_count": 70,
     "metadata": {},
     "output_type": "execute_result"
    },
    {
     "data": {
      "image/png": "[encoded data removed]",
      "text/plain": [
       "<Figure size 432x288 with 1 Axes>"
      ]
     },
     "metadata": {
      "needs_background": "light"
     },
     "output_type": "display_data"
    }
   ],
   "source": [
    "client.DATENAISSANCE.hist()"
   ]
  },
  {
   "cell_type": "code",
   "execution_count": 7,
   "id": "identical-watts",
   "metadata": {},
   "outputs": [],
   "source": [
    "dfage = client[(client.DATENAISSANCE > \"1920\") & (client.DATENAISSANCE < \"2018\") & (client.DATENAISSANCE != \"1970-01-10\") & (client.DATEFINADHESION < \"2020\")]"
   ]
  },
  {
   "cell_type": "code",
   "execution_count": null,
   "id": "unnecessary-fields",
   "metadata": {},
   "outputs": [],
   "source": []
  },
  {
   "cell_type": "code",
   "execution_count": 7,
   "id": "western-wallet",
   "metadata": {},
   "outputs": [
    {
     "data": {
      "text/plain": [
       "<matplotlib.axes._subplots.AxesSubplot at 0x1fbea34aa08>"
      ]
     },
     "execution_count": 7,
     "metadata": {},
     "output_type": "execute_result"
    },
    {
     "data": {
      "image/png": "[encoded data removed]",
      "text/plain": [
       "<Figure size 432x288 with 1 Axes>"
      ]
     },
     "metadata": {
      "needs_background": "light"
     },
     "output_type": "display_data"
    }
   ],
   "source": [
    "dfage.DATENAISSANCE.hist(bins = 20)"
   ]
  },
  {
   "cell_type": "code",
   "execution_count": 14,
   "id": "careful-belief",
   "metadata": {},
   "outputs": [
    {
     "data": {
      "text/plain": [
       "Timestamp('1967-10-30 10:08:26.202928896')"
      ]
     },
     "execution_count": 14,
     "metadata": {},
     "output_type": "execute_result"
    }
   ],
   "source": [
    "dfage[(dfage.CIVILITE == \"MADAME\")].DATENAISSANCE.mean()"
   ]
  },
  {
   "cell_type": "code",
   "execution_count": null,
   "id": "adolescent-taste",
   "metadata": {},
   "outputs": [],
   "source": [
    "sns.displot(dfage, x = 'DATENAISSANCE', binwidth=0.1, height = 4, aspect = 1.5, col = 'CIVILITE', hue = 'CIVILITE')\n",
    "plt.title('Histogramme : Repartition age client par sexe')\n",
    "plt.show()"
   ]
  },
  {
   "cell_type": "code",
   "execution_count": 13,
   "id": "respected-supply",
   "metadata": {},
   "outputs": [
    {
     "data": {
      "text/plain": [
       "<matplotlib.axes._subplots.AxesSubplot at 0x2b11353f1c8>"
      ]
     },
     "execution_count": 13,
     "metadata": {},
     "output_type": "execute_result"
    },
    {
     "data": {
      "image/png": "[encoded data removed]",
      "text/plain": [
       "<Figure size 432x288 with 1 Axes>"
      ]
     },
     "metadata": {
      "needs_background": "light"
     },
     "output_type": "display_data"
    }
   ],
   "source": [
    "dfage[(dfage.CIVILITE == \"MADAME\")].DATENAISSANCE.hist(bins = 20)"
   ]
  },
  {
   "cell_type": "code",
   "execution_count": 15,
   "id": "hindu-robert",
   "metadata": {},
   "outputs": [
    {
     "data": {
      "text/plain": [
       "Timestamp('1967-10-30 10:08:26.202928896')"
      ]
     },
     "execution_count": 15,
     "metadata": {},
     "output_type": "execute_result"
    }
   ],
   "source": [
    "dfage[(dfage.CIVILITE == \"MADAME\")].DATENAISSANCE.mean()"
   ]
  },
  {
   "cell_type": "code",
   "execution_count": 9,
   "id": "cloudy-entry",
   "metadata": {},
   "outputs": [
    {
     "data": {
      "text/plain": [
       "<matplotlib.axes._subplots.AxesSubplot at 0x2b10a081848>"
      ]
     },
     "execution_count": 9,
     "metadata": {},
     "output_type": "execute_result"
    },
    {
     "data": {
      "image/png": "[encoded data removed]",
      "text/plain": [
       "<Figure size 432x288 with 1 Axes>"
      ]
     },
     "metadata": {
      "needs_background": "light"
     },
     "output_type": "display_data"
    }
   ],
   "source": [
    "dfage[(dfage.CIVILITE == \"MONSIEUR\")].DATENAISSANCE.hist(bins = 20)"
   ]
  },
  {
   "cell_type": "code",
   "execution_count": 12,
   "id": "proprietary-paste",
   "metadata": {},
   "outputs": [
    {
     "data": {
      "text/plain": [
       "Timestamp('1967-11-06 05:37:56.401564520')"
      ]
     },
     "execution_count": 12,
     "metadata": {},
     "output_type": "execute_result"
    }
   ],
   "source": [
    "dfage[(dfage.CIVILITE == \"MONSIEUR\")].DATENAISSANCE.mean()"
   ]
  },
  {
   "cell_type": "code",
   "execution_count": null,
   "id": "another-boston",
   "metadata": {},
   "outputs": [],
   "source": [
    "DATEDEBUTADHESION\tDATEREADHESION\tDATEFINADHESION"
   ]
  },
  {
   "cell_type": "code",
   "execution_count": 28,
   "id": "incident-mumbai",
   "metadata": {},
   "outputs": [
    {
     "name": "stderr",
     "output_type": "stream",
     "text": [
      "C:\\Users\\charl\\anaconda3\\lib\\site-packages\\ipykernel_launcher.py:1: FutureWarning: Treating datetime data as categorical rather than numeric in `.describe` is deprecated and will be removed in a future version of pandas. Specify `datetime_is_numeric=True` to silence this warning and adopt the future behavior now.\n",
      "  \"\"\"Entry point for launching an IPython kernel.\n"
     ]
    },
    {
     "data": {
      "text/plain": [
       "count                  845876\n",
       "unique                   6356\n",
       "top       2001-01-03 00:00:00\n",
       "freq                    10214\n",
       "first     1997-01-01 00:00:00\n",
       "last      2017-12-31 00:00:00\n",
       "Name: DATEDEBUTADHESION, dtype: object"
      ]
     },
     "execution_count": 28,
     "metadata": {},
     "output_type": "execute_result"
    }
   ],
   "source": [
    "client.DATEDEBUTADHESION.describe()"
   ]
  },
  {
   "cell_type": "code",
   "execution_count": 119,
   "id": "developed-hierarchy",
   "metadata": {},
   "outputs": [
    {
     "data": {
      "text/plain": [
       "<matplotlib.axes._subplots.AxesSubplot at 0x2b1161a2648>"
      ]
     },
     "execution_count": 119,
     "metadata": {},
     "output_type": "execute_result"
    },
    {
     "data": {
      "image/png": "[encoded data removed]",
      "text/plain": [
       "<Figure size 1080x360 with 1 Axes>"
      ]
     },
     "metadata": {
      "needs_background": "light"
     },
     "output_type": "display_data"
    }
   ],
   "source": [
    "fig = plt.figure(figsize = (15,5))\n",
    "ax = fig.gca()\n",
    "\n",
    "client.DATEDEBUTADHESION.hist(bins = 100)"
   ]
  },
  {
   "cell_type": "code",
   "execution_count": 152,
   "id": "described-future",
   "metadata": {},
   "outputs": [
    {
     "name": "stderr",
     "output_type": "stream",
     "text": [
      "C:\\Users\\charl\\anaconda3\\lib\\site-packages\\ipykernel_launcher.py:1: FutureWarning: Treating datetime data as categorical rather than numeric in `.describe` is deprecated and will be removed in a future version of pandas. Specify `datetime_is_numeric=True` to silence this warning and adopt the future behavior now.\n",
      "  \"\"\"Entry point for launching an IPython kernel.\n"
     ]
    },
    {
     "data": {
      "text/plain": [
       "count                  507816\n",
       "unique                   2860\n",
       "top       2017-08-04 00:00:00\n",
       "freq                     2149\n",
       "first     2003-01-03 00:00:00\n",
       "last      2018-07-01 00:00:00\n",
       "Name: DATEREADHESION, dtype: object"
      ]
     },
     "execution_count": 152,
     "metadata": {},
     "output_type": "execute_result"
    }
   ],
   "source": [
    "client.DATEREADHESION.describe()"
   ]
  },
  {
   "cell_type": "code",
   "execution_count": 120,
   "id": "independent-thermal",
   "metadata": {},
   "outputs": [
    {
     "data": {
      "text/plain": [
       "<matplotlib.axes._subplots.AxesSubplot at 0x2b117c989c8>"
      ]
     },
     "execution_count": 120,
     "metadata": {},
     "output_type": "execute_result"
    },
    {
     "data": {
      "image/png": "[encoded data removed]",
      "text/plain": [
       "<Figure size 1080x360 with 1 Axes>"
      ]
     },
     "metadata": {
      "needs_background": "light"
     },
     "output_type": "display_data"
    }
   ],
   "source": [
    "fig = plt.figure(figsize = (15,5))\n",
    "ax = fig.gca()\n",
    "\n",
    "client.DATEREADHESION.hist(bins=100)"
   ]
  },
  {
   "cell_type": "code",
   "execution_count": 121,
   "id": "greater-bones",
   "metadata": {},
   "outputs": [
    {
     "name": "stderr",
     "output_type": "stream",
     "text": [
      "C:\\Users\\charl\\anaconda3\\lib\\site-packages\\ipykernel_launcher.py:1: FutureWarning: Treating datetime data as categorical rather than numeric in `.describe` is deprecated and will be removed in a future version of pandas. Specify `datetime_is_numeric=True` to silence this warning and adopt the future behavior now.\n",
      "  \"\"\"Entry point for launching an IPython kernel.\n"
     ]
    },
    {
     "data": {
      "text/plain": [
       "count                  845876\n",
       "unique                    161\n",
       "top       2018-05-31 00:00:00\n",
       "freq                    56297\n",
       "first     2016-01-21 00:00:00\n",
       "last      2100-01-31 00:00:00\n",
       "Name: DATEFINADHESION, dtype: object"
      ]
     },
     "execution_count": 121,
     "metadata": {},
     "output_type": "execute_result"
    }
   ],
   "source": [
    "client.DATEFINADHESION.describe()"
   ]
  },
  {
   "cell_type": "code",
   "execution_count": 123,
   "id": "premier-photography",
   "metadata": {},
   "outputs": [
    {
     "data": {
      "text/plain": [
       "<matplotlib.axes._subplots.AxesSubplot at 0x2b124d14c08>"
      ]
     },
     "execution_count": 123,
     "metadata": {},
     "output_type": "execute_result"
    },
    {
     "data": {
      "image/png": "[encoded data removed]",
      "text/plain": [
       "<Figure size 1080x360 with 1 Axes>"
      ]
     },
     "metadata": {
      "needs_background": "light"
     },
     "output_type": "display_data"
    }
   ],
   "source": [
    "fig = plt.figure(figsize = (15,5))\n",
    "ax = fig.gca()\n",
    "\n",
    "dfage.DATEFINADHESION.hist(bins=100)"
   ]
  },
  {
   "cell_type": "code",
   "execution_count": 16,
   "id": "friendly-comparative",
   "metadata": {},
   "outputs": [],
   "source": [
    "# A calculer : temps d'adhesion'"
   ]
  },
  {
   "cell_type": "code",
   "execution_count": 56,
   "id": "perfect-northwest",
   "metadata": {},
   "outputs": [],
   "source": [
    "client[\"DUREEADHESION\"] = (client.DATEFINADHESION - client.DATEDEBUTADHESION).astype('timedelta64[D]')"
   ]
  },
  {
   "cell_type": "code",
   "execution_count": 57,
   "id": "juvenile-notion",
   "metadata": {},
   "outputs": [],
   "source": [
    "dfdur = client[(client.DATENAISSANCE > \"1920\") & (client.DATENAISSANCE < \"2018\") & (client.DATENAISSANCE != \"1970-01-10\") & (client.DATEFINADHESION < \"2020\")]"
   ]
  },
  {
   "cell_type": "code",
   "execution_count": 58,
   "id": "drawn-collector",
   "metadata": {},
   "outputs": [
    {
     "data": {
      "text/html": [
       "<div>\n",
       "<style scoped>\n",
       "    .dataframe tbody tr th:only-of-type {\n",
       "        vertical-align: middle;\n",
       "    }\n",
       "\n",
       "    .dataframe tbody tr th {\n",
       "        vertical-align: top;\n",
       "    }\n",
       "\n",
       "    .dataframe thead th {\n",
       "        text-align: right;\n",
       "    }\n",
       "</style>\n",
       "<table border=\"1\" class=\"dataframe\">\n",
       "  <thead>\n",
       "    <tr style=\"text-align: right;\">\n",
       "      <th></th>\n",
       "      <th>IDCLIENT</th>\n",
       "      <th>CIVILITE</th>\n",
       "      <th>DATENAISSANCE</th>\n",
       "      <th>MAGASIN</th>\n",
       "      <th>DATEDEBUTADHESION</th>\n",
       "      <th>DATEREADHESION</th>\n",
       "      <th>DATEFINADHESION</th>\n",
       "      <th>VIP</th>\n",
       "      <th>CODEINSEE</th>\n",
       "      <th>PAYS</th>\n",
       "      <th>DUREEADHESION</th>\n",
       "    </tr>\n",
       "  </thead>\n",
       "  <tbody>\n",
       "    <tr>\n",
       "      <th>1</th>\n",
       "      <td>156023.0</td>\n",
       "      <td>MONSIEUR</td>\n",
       "      <td>1966-07-08</td>\n",
       "      <td>VLG</td>\n",
       "      <td>2005-05-14</td>\n",
       "      <td>2014-06-21</td>\n",
       "      <td>2016-06-30</td>\n",
       "      <td>0</td>\n",
       "      <td>74189</td>\n",
       "      <td>FR</td>\n",
       "      <td>4065.0</td>\n",
       "    </tr>\n",
       "    <tr>\n",
       "      <th>3</th>\n",
       "      <td>156190.0</td>\n",
       "      <td>MADAME</td>\n",
       "      <td>1976-07-24</td>\n",
       "      <td>SUR</td>\n",
       "      <td>2006-08-28</td>\n",
       "      <td>2015-05-24</td>\n",
       "      <td>2016-05-31</td>\n",
       "      <td>0</td>\n",
       "      <td>92026</td>\n",
       "      <td>FR</td>\n",
       "      <td>3564.0</td>\n",
       "    </tr>\n",
       "    <tr>\n",
       "      <th>5</th>\n",
       "      <td>104715.0</td>\n",
       "      <td>MADAME</td>\n",
       "      <td>1963-07-26</td>\n",
       "      <td>BEA</td>\n",
       "      <td>2005-05-02</td>\n",
       "      <td>2011-02-07</td>\n",
       "      <td>2018-07-31</td>\n",
       "      <td>1</td>\n",
       "      <td>63052</td>\n",
       "      <td>FR</td>\n",
       "      <td>4838.0</td>\n",
       "    </tr>\n",
       "    <tr>\n",
       "      <th>7</th>\n",
       "      <td>120577.0</td>\n",
       "      <td>MONSIEUR</td>\n",
       "      <td>1946-02-20</td>\n",
       "      <td>VIF</td>\n",
       "      <td>2005-03-28</td>\n",
       "      <td>2015-03-04</td>\n",
       "      <td>2016-04-30</td>\n",
       "      <td>0</td>\n",
       "      <td>38034</td>\n",
       "      <td>FR</td>\n",
       "      <td>4051.0</td>\n",
       "    </tr>\n",
       "    <tr>\n",
       "      <th>8</th>\n",
       "      <td>144526.0</td>\n",
       "      <td>MONSIEUR</td>\n",
       "      <td>1978-09-08</td>\n",
       "      <td>SMR</td>\n",
       "      <td>2005-08-13</td>\n",
       "      <td>2016-12-05</td>\n",
       "      <td>2017-05-31</td>\n",
       "      <td>0</td>\n",
       "      <td>13056</td>\n",
       "      <td>FR</td>\n",
       "      <td>4309.0</td>\n",
       "    </tr>\n",
       "  </tbody>\n",
       "</table>\n",
       "</div>"
      ],
      "text/plain": [
       "   IDCLIENT  CIVILITE DATENAISSANCE MAGASIN DATEDEBUTADHESION DATEREADHESION  \\\n",
       "1  156023.0  MONSIEUR    1966-07-08     VLG        2005-05-14     2014-06-21   \n",
       "3  156190.0    MADAME    1976-07-24     SUR        2006-08-28     2015-05-24   \n",
       "5  104715.0    MADAME    1963-07-26     BEA        2005-05-02     2011-02-07   \n",
       "7  120577.0  MONSIEUR    1946-02-20     VIF        2005-03-28     2015-03-04   \n",
       "8  144526.0  MONSIEUR    1978-09-08     SMR        2005-08-13     2016-12-05   \n",
       "\n",
       "  DATEFINADHESION  VIP CODEINSEE PAYS  DUREEADHESION  \n",
       "1      2016-06-30    0     74189   FR         4065.0  \n",
       "3      2016-05-31    0     92026   FR         3564.0  \n",
       "5      2018-07-31    1     63052   FR         4838.0  \n",
       "7      2016-04-30    0     38034   FR         4051.0  \n",
       "8      2017-05-31    0     13056   FR         4309.0  "
      ]
     },
     "execution_count": 58,
     "metadata": {},
     "output_type": "execute_result"
    }
   ],
   "source": [
    "dfdur.head()"
   ]
  },
  {
   "cell_type": "code",
   "execution_count": 59,
   "id": "specialized-jenny",
   "metadata": {},
   "outputs": [
    {
     "data": {
      "text/plain": [
       "count    506736.000000\n",
       "mean       1699.254132\n",
       "std        1751.154950\n",
       "min        -158.000000\n",
       "25%         377.000000\n",
       "50%         778.000000\n",
       "75%        2832.000000\n",
       "max        8277.000000\n",
       "Name: DUREEADHESION, dtype: float64"
      ]
     },
     "execution_count": 59,
     "metadata": {},
     "output_type": "execute_result"
    }
   ],
   "source": [
    "dfdur[\"DUREEADHESION\"].describe()"
   ]
  },
  {
   "cell_type": "code",
   "execution_count": 71,
   "id": "concrete-staff",
   "metadata": {},
   "outputs": [
    {
     "data": {
      "text/plain": [
       "<matplotlib.axes._subplots.AxesSubplot at 0x2b112a82888>"
      ]
     },
     "execution_count": 71,
     "metadata": {},
     "output_type": "execute_result"
    },
    {
     "data": {
      "image/png": "[encoded data removed]",
      "text/plain": [
       "<Figure size 432x288 with 1 Axes>"
      ]
     },
     "metadata": {
      "needs_background": "light"
     },
     "output_type": "display_data"
    }
   ],
   "source": [
    "dfdur.DUREEADHESION.hist(bins=100)"
   ]
  },
  {
   "cell_type": "code",
   "execution_count": null,
   "id": "funded-russian",
   "metadata": {},
   "outputs": [],
   "source": []
  },
  {
   "cell_type": "code",
   "execution_count": 96,
   "id": "thorough-dining",
   "metadata": {},
   "outputs": [],
   "source": [
    "gr = dfdur.groupby('DUREEADHESION').agg({'DUREEADHESION':'count'}).sort"
   ]
  },
  {
   "cell_type": "code",
   "execution_count": 112,
   "id": "moving-acrobat",
   "metadata": {},
   "outputs": [
    {
     "data": {
      "text/plain": [
       "(348.1, 376.217]      91968\n",
       "(376.217, 404.333]    52988\n",
       "(741.733, 769.85]     10035\n",
       "(713.617, 741.733]     9575\n",
       "(460.567, 488.683]     7449\n",
       "(769.85, 797.967]      7220\n",
       "(432.45, 460.567]      6807\n",
       "(319.983, 348.1]       6494\n",
       "(404.333, 432.45]      6109\n",
       "(263.75, 291.867]      6041\n",
       "Name: DUREEADHESION, dtype: int64"
      ]
     },
     "execution_count": 112,
     "metadata": {},
     "output_type": "execute_result"
    }
   ],
   "source": [
    "dfdur['DUREEADHESION'].value_counts(bins=300).head(10)"
   ]
  },
  {
   "cell_type": "code",
   "execution_count": null,
   "id": "yellow-despite",
   "metadata": {},
   "outputs": [],
   "source": [
    "#Identifier le pic"
   ]
  },
  {
   "cell_type": "code",
   "execution_count": null,
   "id": "first-violin",
   "metadata": {},
   "outputs": [],
   "source": []
  },
  {
   "cell_type": "code",
   "execution_count": null,
   "id": "blind-toyota",
   "metadata": {},
   "outputs": [],
   "source": []
  },
  {
   "cell_type": "code",
   "execution_count": 61,
   "id": "rotary-estonia",
   "metadata": {},
   "outputs": [
    {
     "data": {
      "text/plain": [
       "(506736, 11)"
      ]
     },
     "execution_count": 61,
     "metadata": {},
     "output_type": "execute_result"
    }
   ],
   "source": [
    "dfdur.shape"
   ]
  },
  {
   "cell_type": "code",
   "execution_count": 63,
   "id": "internal-assistant",
   "metadata": {},
   "outputs": [],
   "source": [
    "Test = dfdur[(dfdur.DUREEADHESION < 0)]"
   ]
  },
  {
   "cell_type": "code",
   "execution_count": 64,
   "id": "living-enzyme",
   "metadata": {},
   "outputs": [
    {
     "data": {
      "text/plain": [
       "(3, 11)"
      ]
     },
     "execution_count": 64,
     "metadata": {},
     "output_type": "execute_result"
    }
   ],
   "source": [
    "Test.shape"
   ]
  },
  {
   "cell_type": "code",
   "execution_count": 65,
   "id": "twelve-delaware",
   "metadata": {},
   "outputs": [
    {
     "data": {
      "text/html": [
       "<div>\n",
       "<style scoped>\n",
       "    .dataframe tbody tr th:only-of-type {\n",
       "        vertical-align: middle;\n",
       "    }\n",
       "\n",
       "    .dataframe tbody tr th {\n",
       "        vertical-align: top;\n",
       "    }\n",
       "\n",
       "    .dataframe thead th {\n",
       "        text-align: right;\n",
       "    }\n",
       "</style>\n",
       "<table border=\"1\" class=\"dataframe\">\n",
       "  <thead>\n",
       "    <tr style=\"text-align: right;\">\n",
       "      <th></th>\n",
       "      <th>IDCLIENT</th>\n",
       "      <th>CIVILITE</th>\n",
       "      <th>DATENAISSANCE</th>\n",
       "      <th>MAGASIN</th>\n",
       "      <th>DATEDEBUTADHESION</th>\n",
       "      <th>DATEREADHESION</th>\n",
       "      <th>DATEFINADHESION</th>\n",
       "      <th>VIP</th>\n",
       "      <th>CODEINSEE</th>\n",
       "      <th>PAYS</th>\n",
       "      <th>DUREEADHESION</th>\n",
       "    </tr>\n",
       "  </thead>\n",
       "  <tbody>\n",
       "    <tr>\n",
       "      <th>643563</th>\n",
       "      <td>3116911.0</td>\n",
       "      <td>MADAME</td>\n",
       "      <td>1979-06-14</td>\n",
       "      <td>BAR</td>\n",
       "      <td>2016-11-05</td>\n",
       "      <td>2017-01-17</td>\n",
       "      <td>2016-07-31</td>\n",
       "      <td>0</td>\n",
       "      <td>04019</td>\n",
       "      <td>FR</td>\n",
       "      <td>-97.0</td>\n",
       "    </tr>\n",
       "    <tr>\n",
       "      <th>670086</th>\n",
       "      <td>3345202.0</td>\n",
       "      <td>MONSIEUR</td>\n",
       "      <td>1998-12-24</td>\n",
       "      <td>SMR</td>\n",
       "      <td>2017-12-05</td>\n",
       "      <td>NaT</td>\n",
       "      <td>2017-06-30</td>\n",
       "      <td>0</td>\n",
       "      <td>13039</td>\n",
       "      <td>FR</td>\n",
       "      <td>-158.0</td>\n",
       "    </tr>\n",
       "    <tr>\n",
       "      <th>698715</th>\n",
       "      <td>3069454.0</td>\n",
       "      <td>MONSIEUR</td>\n",
       "      <td>1995-10-14</td>\n",
       "      <td>EPN</td>\n",
       "      <td>2016-11-04</td>\n",
       "      <td>2016-07-16</td>\n",
       "      <td>2016-05-31</td>\n",
       "      <td>0</td>\n",
       "      <td>88037</td>\n",
       "      <td>FR</td>\n",
       "      <td>-157.0</td>\n",
       "    </tr>\n",
       "  </tbody>\n",
       "</table>\n",
       "</div>"
      ],
      "text/plain": [
       "         IDCLIENT  CIVILITE DATENAISSANCE MAGASIN DATEDEBUTADHESION  \\\n",
       "643563  3116911.0    MADAME    1979-06-14     BAR        2016-11-05   \n",
       "670086  3345202.0  MONSIEUR    1998-12-24     SMR        2017-12-05   \n",
       "698715  3069454.0  MONSIEUR    1995-10-14     EPN        2016-11-04   \n",
       "\n",
       "       DATEREADHESION DATEFINADHESION  VIP CODEINSEE PAYS  DUREEADHESION  \n",
       "643563     2017-01-17      2016-07-31    0     04019   FR          -97.0  \n",
       "670086            NaT      2017-06-30    0     13039   FR         -158.0  \n",
       "698715     2016-07-16      2016-05-31    0     88037   FR         -157.0  "
      ]
     },
     "execution_count": 65,
     "metadata": {},
     "output_type": "execute_result"
    }
   ],
   "source": [
    "Test"
   ]
  },
  {
   "cell_type": "code",
   "execution_count": 66,
   "id": "administrative-bookmark",
   "metadata": {},
   "outputs": [],
   "source": [
    "Test2 = dfdur[(dfdur.DUREEADHESION > 8270)]"
   ]
  },
  {
   "cell_type": "code",
   "execution_count": 67,
   "id": "native-worthy",
   "metadata": {},
   "outputs": [
    {
     "data": {
      "text/html": [
       "<div>\n",
       "<style scoped>\n",
       "    .dataframe tbody tr th:only-of-type {\n",
       "        vertical-align: middle;\n",
       "    }\n",
       "\n",
       "    .dataframe tbody tr th {\n",
       "        vertical-align: top;\n",
       "    }\n",
       "\n",
       "    .dataframe thead th {\n",
       "        text-align: right;\n",
       "    }\n",
       "</style>\n",
       "<table border=\"1\" class=\"dataframe\">\n",
       "  <thead>\n",
       "    <tr style=\"text-align: right;\">\n",
       "      <th></th>\n",
       "      <th>IDCLIENT</th>\n",
       "      <th>CIVILITE</th>\n",
       "      <th>DATENAISSANCE</th>\n",
       "      <th>MAGASIN</th>\n",
       "      <th>DATEDEBUTADHESION</th>\n",
       "      <th>DATEREADHESION</th>\n",
       "      <th>DATEFINADHESION</th>\n",
       "      <th>VIP</th>\n",
       "      <th>CODEINSEE</th>\n",
       "      <th>PAYS</th>\n",
       "      <th>DUREEADHESION</th>\n",
       "    </tr>\n",
       "  </thead>\n",
       "  <tbody>\n",
       "    <tr>\n",
       "      <th>89000</th>\n",
       "      <td>282416.0</td>\n",
       "      <td>MADAME</td>\n",
       "      <td>1966-09-20</td>\n",
       "      <td>MET</td>\n",
       "      <td>1997-01-01</td>\n",
       "      <td>2017-09-08</td>\n",
       "      <td>2019-08-31</td>\n",
       "      <td>1</td>\n",
       "      <td>74093</td>\n",
       "      <td>FR</td>\n",
       "      <td>8277.0</td>\n",
       "    </tr>\n",
       "  </tbody>\n",
       "</table>\n",
       "</div>"
      ],
      "text/plain": [
       "       IDCLIENT CIVILITE DATENAISSANCE MAGASIN DATEDEBUTADHESION  \\\n",
       "89000  282416.0   MADAME    1966-09-20     MET        1997-01-01   \n",
       "\n",
       "      DATEREADHESION DATEFINADHESION  VIP CODEINSEE PAYS  DUREEADHESION  \n",
       "89000     2017-09-08      2019-08-31    1     74093   FR         8277.0  "
      ]
     },
     "execution_count": 67,
     "metadata": {},
     "output_type": "execute_result"
    }
   ],
   "source": [
    "Test2.head()"
   ]
  },
  {
   "cell_type": "markdown",
   "id": "hidden-calcium",
   "metadata": {},
   "source": [
    "### Nombre de clients par magasin"
   ]
  },
  {
   "cell_type": "code",
   "execution_count": null,
   "id": "suited-arlington",
   "metadata": {},
   "outputs": [],
   "source": [
    "Nombre de magasins par année"
   ]
  },
  {
   "cell_type": "code",
   "execution_count": 13,
   "id": "patient-speech",
   "metadata": {},
   "outputs": [
    {
     "data": {
      "text/plain": [
       "array(['VLG', 'BEA', 'SUR', 'LAB', 'SMR', 'VIF', 'OBE', 'VAR', 'SSM',\n",
       "       'QUE', 'VIC', 'VIT', 'DUM', 'FRV', 'VIB', 'SJV', 'IAB', 'ECU',\n",
       "       'BEC', 'CLA', 'STE', 'BLA', 'ALB', 'AVI', 'MAC', 'MOB', 'GAP',\n",
       "       'MAN', 'SEM', 'VAL', 'MOU', 'MUL', 'POC', 'NEV', 'PEP', 'RAV',\n",
       "       'SEY', 'MET', 'PEG', 'DIJ', 'SNO', 'RMA', 'GEX', 'STR', 'HEI',\n",
       "       'PON', 'SGL', 'FEG', 'THO', 'ALM', 'SCH', 'HAG', 'EST', 'CAG',\n",
       "       'SMA', 'VEN', 'EPN', 'SAL', 'PRI', 'GAI', 'BSN', 'BRE', 'VIV',\n",
       "       'CLI', 'ORL', 'SLM', 'BAR'], dtype=object)"
      ]
     },
     "execution_count": 13,
     "metadata": {},
     "output_type": "execute_result"
    }
   ],
   "source": [
    "client.MAGASIN.unique()"
   ]
  },
  {
   "cell_type": "code",
   "execution_count": 148,
   "id": "advanced-equation",
   "metadata": {},
   "outputs": [
    {
     "data": {
      "text/plain": [
       "Text(0.5, 1, 'Nb de clients par Magasin')"
      ]
     },
     "execution_count": 148,
     "metadata": {},
     "output_type": "execute_result"
    },
    {
     "data": {
      "image/png": "[encoded data removed]",
      "text/plain": [
       "<Figure size 720x360 with 1 Axes>"
      ]
     },
     "metadata": {
      "needs_background": "light"
     },
     "output_type": "display_data"
    }
   ],
   "source": [
    "sns.catplot(x = \"MAGASIN\", kind = \"count\", data = client, height=5, aspect=2)\n",
    "plt.title('Nb de clients par Magasin')"
   ]
  },
  {
   "cell_type": "markdown",
   "id": "saving-correlation",
   "metadata": {},
   "source": [
    "## Revoir largeur"
   ]
  },
  {
   "cell_type": "code",
   "execution_count": 143,
   "id": "attached-accuracy",
   "metadata": {},
   "outputs": [
    {
     "data": {
      "text/plain": [
       "Text(0.5, 1, 'Nb de clients par PAYS')"
      ]
     },
     "execution_count": 143,
     "metadata": {},
     "output_type": "execute_result"
    },
    {
     "data": {
      "image/png": "[encoded data removed]",
      "text/plain": [
       "<Figure size 1080x1080 with 1 Axes>"
      ]
     },
     "metadata": {
      "needs_background": "light"
     },
     "output_type": "display_data"
    }
   ],
   "source": [
    "sns.catplot(x = \"PAYS\", kind = \"count\", data = client, height = 10, aspect = 1)\n",
    "plt.title('Nb de clients par PAYS')"
   ]
  },
  {
   "cell_type": "code",
   "execution_count": 145,
   "id": "future-hybrid",
   "metadata": {},
   "outputs": [
    {
     "data": {
      "text/plain": [
       "PRI    26935\n",
       "SEY    25967\n",
       "VIB    24640\n",
       "MOU    24389\n",
       "SUR    23784\n",
       "CLA    23744\n",
       "SSM    23601\n",
       "HEI    23500\n",
       "VLG    22541\n",
       "BEA    20714\n",
       "GEX    19278\n",
       "MOB    18929\n",
       "MET    17997\n",
       "IAB    16885\n",
       "VAL    16685\n",
       "ALM    16499\n",
       "GAI    16162\n",
       "AVI    15435\n",
       "ECU    15410\n",
       "FRV    15377\n",
       "VIT    14673\n",
       "MAC    14632\n",
       "MUL    14240\n",
       "VIF    14180\n",
       "VAR    12948\n",
       "ALB    12828\n",
       "DIJ    12603\n",
       "SMR    12532\n",
       "STE    12001\n",
       "PON    11788\n",
       "BLA    11748\n",
       "QUE    11699\n",
       "VIC    11556\n",
       "RAV    11396\n",
       "MAN    11343\n",
       "SJV    11065\n",
       "LAB    11058\n",
       "PEG    11012\n",
       "SNO    10828\n",
       "FEG    10561\n",
       "THO    10549\n",
       "VEN    10544\n",
       "SEM    10360\n",
       "BSN    10302\n",
       "POC    10182\n",
       "BRE    10106\n",
       "ORL     9891\n",
       "OBE     9709\n",
       "CAG     9071\n",
       "SGL     8846\n",
       "EPN     8800\n",
       "GAP     8137\n",
       "BEC     7977\n",
       "SLM     7894\n",
       "PEP     7609\n",
       "NEV     7007\n",
       "DUM     6761\n",
       "RMA     6499\n",
       "SCH     5526\n",
       "SMA     5413\n",
       "HAG     4780\n",
       "CLI     4454\n",
       "VIV     3632\n",
       "SAL     3124\n",
       "STR     2946\n",
       "BAR     1321\n",
       "EST     1273\n",
       "Name: MAGASIN, dtype: int64"
      ]
     },
     "execution_count": 145,
     "metadata": {},
     "output_type": "execute_result"
    }
   ],
   "source": [
    "client.MAGASIN.value_counts()"
   ]
  },
  {
   "cell_type": "code",
   "execution_count": null,
   "id": "charged-november",
   "metadata": {},
   "outputs": [],
   "source": []
  },
  {
   "cell_type": "code",
   "execution_count": 14,
   "id": "challenging-composition",
   "metadata": {},
   "outputs": [
    {
     "data": {
      "text/plain": [
       "array([0, 1], dtype=int64)"
      ]
     },
     "execution_count": 14,
     "metadata": {},
     "output_type": "execute_result"
    }
   ],
   "source": [
    "client.VIP.unique()"
   ]
  },
  {
   "cell_type": "code",
   "execution_count": 19,
   "id": "specialized-keyboard",
   "metadata": {},
   "outputs": [
    {
     "data": {
      "text/plain": [
       "0    735425\n",
       "1    110451\n",
       "Name: VIP, dtype: int64"
      ]
     },
     "execution_count": 19,
     "metadata": {},
     "output_type": "execute_result"
    }
   ],
   "source": [
    "client.VIP.value_counts()"
   ]
  },
  {
   "cell_type": "code",
   "execution_count": 22,
   "id": "suffering-vertex",
   "metadata": {},
   "outputs": [
    {
     "data": {
      "text/plain": [
       "0.1305758763695861"
      ]
     },
     "execution_count": 22,
     "metadata": {},
     "output_type": "execute_result"
    }
   ],
   "source": [
    "client.VIP.mean()"
   ]
  },
  {
   "cell_type": "code",
   "execution_count": null,
   "id": "applied-intention",
   "metadata": {},
   "outputs": [],
   "source": [
    "Test2 = dfdur[(dfdur.DUREEADHESION > 8270)]"
   ]
  },
  {
   "cell_type": "code",
   "execution_count": 140,
   "id": "continuous-yield",
   "metadata": {},
   "outputs": [],
   "source": [
    "VIP = client[(client.VIP==1)]"
   ]
  },
  {
   "cell_type": "code",
   "execution_count": 141,
   "id": "realistic-rally",
   "metadata": {},
   "outputs": [
    {
     "data": {
      "text/plain": [
       "GEX    4412\n",
       "VLG    3886\n",
       "MOB    3660\n",
       "SSM    3601\n",
       "MOU    3502\n",
       "GAI    3434\n",
       "CLA    3353\n",
       "HEI    3270\n",
       "BEA    3190\n",
       "PRI    2972\n",
       "SUR    2861\n",
       "MET    2589\n",
       "ALM    2564\n",
       "VIB    2417\n",
       "SEY    2395\n",
       "AVI    2367\n",
       "ECU    2353\n",
       "FRV    2159\n",
       "VAR    2090\n",
       "MUL    1856\n",
       "SMR    1816\n",
       "THO    1797\n",
       "VAL    1770\n",
       "DIJ    1732\n",
       "IAB    1661\n",
       "ALB    1637\n",
       "VIT    1636\n",
       "VEN    1582\n",
       "ORL    1577\n",
       "MAN    1561\n",
       "VIF    1541\n",
       "DUM    1417\n",
       "RAV    1402\n",
       "MAC    1376\n",
       "POC    1353\n",
       "PON    1342\n",
       "FEG    1279\n",
       "STE    1268\n",
       "GAP    1262\n",
       "SJV    1244\n",
       "SNO    1230\n",
       "BLA    1216\n",
       "BRE    1205\n",
       "VIC    1192\n",
       "PEG    1160\n",
       "LAB    1094\n",
       "SEM    1054\n",
       "OBE    1043\n",
       "BSN     989\n",
       "QUE     985\n",
       "SGL     936\n",
       "EPN     879\n",
       "SMA     855\n",
       "RMA     836\n",
       "BEC     829\n",
       "SLM     819\n",
       "NEV     746\n",
       "CAG     683\n",
       "PEP     640\n",
       "CLI     575\n",
       "SCH     446\n",
       "VIV     445\n",
       "HAG     433\n",
       "SAL     288\n",
       "BAR     282\n",
       "STR     279\n",
       "EST     128\n",
       "Name: MAGASIN, dtype: int64"
      ]
     },
     "execution_count": 141,
     "metadata": {},
     "output_type": "execute_result"
    }
   ],
   "source": [
    "VIP.MAGASIN.value_counts()"
   ]
  },
  {
   "cell_type": "code",
   "execution_count": 15,
   "id": "elder-triple",
   "metadata": {},
   "outputs": [
    {
     "data": {
      "text/plain": [
       "array(['FR', 'CH', 'DE', 'BE', 'LU', 'GB', 'MC', 'ES', 'IT', nan, 'DZ',\n",
       "       'AD', 'RO', 'NL', 'US', 'SE', 'FI', 'SZ', 'AT', 'RU', 'PL', 'AF',\n",
       "       'CA', 'TN', 'BG', 'GR', 'JM', 'MA', 'GF', 'NO', 'AM', 'ZA', 'AE',\n",
       "       'MT', 'DK', 'LA', 'UA', 'LK', 'MQ', 'LV', 'VN', 'JP', 'GA', 'TR',\n",
       "       'GM', 'BR', 'PT', 'NC', 'SM'], dtype=object)"
      ]
     },
     "execution_count": 15,
     "metadata": {},
     "output_type": "execute_result"
    }
   ],
   "source": [
    "client.PAYS.unique()"
   ]
  },
  {
   "cell_type": "markdown",
   "id": "referenced-version",
   "metadata": {},
   "source": [
    "#/!\\ Il y a des NaN"
   ]
  },
  {
   "cell_type": "code",
   "execution_count": 16,
   "id": "unlike-stadium",
   "metadata": {},
   "outputs": [
    {
     "data": {
      "text/plain": [
       "array(['74224', '74189', '63070', ..., '55507', '02420', '17172'],\n",
       "      dtype=object)"
      ]
     },
     "execution_count": 16,
     "metadata": {},
     "output_type": "execute_result"
    }
   ],
   "source": [
    "client.CODEINSEE.unique()"
   ]
  },
  {
   "cell_type": "markdown",
   "id": "unlikely-payment",
   "metadata": {},
   "source": [
    "### Répartition sur les dates à faire"
   ]
  },
  {
   "cell_type": "code",
   "execution_count": 22,
   "id": "small-stress",
   "metadata": {},
   "outputs": [
    {
     "data": {
      "text/plain": [
       "845876"
      ]
     },
     "execution_count": 22,
     "metadata": {},
     "output_type": "execute_result"
    }
   ],
   "source": [
    "len(client.IDCLIENT.value_counts())"
   ]
  },
  {
   "cell_type": "code",
   "execution_count": 23,
   "id": "southwest-dancing",
   "metadata": {},
   "outputs": [
    {
     "data": {
      "text/plain": [
       "False    845876\n",
       "dtype: int64"
      ]
     },
     "execution_count": 23,
     "metadata": {},
     "output_type": "execute_result"
    }
   ],
   "source": [
    "client.duplicated().value_counts()"
   ]
  },
  {
   "cell_type": "code",
   "execution_count": null,
   "id": "buried-respect",
   "metadata": {},
   "outputs": [],
   "source": []
  }
 ],
 "metadata": {
  "kernelspec": {
   "display_name": "Python 3",
   "language": "python",
   "name": "python3"
  },
  "language_info": {
   "codemirror_mode": {
    "name": "ipython",
    "version": 3
   },
   "file_extension": ".py",
   "mimetype": "text/x-python",
   "name": "python",
   "nbconvert_exporter": "python",
   "pygments_lexer": "ipython3",
   "version": "3.8.8"
  }
 },
 "nbformat": 4,
 "nbformat_minor": 5
}
