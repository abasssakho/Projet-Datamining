{
 "cells": [
  {
   "cell_type": "code",
   "execution_count": 2,
   "id": "intended-sleeping",
   "metadata": {},
   "outputs": [],
   "source": [
    "import numpy as np\n",
    "import pandas as pd\n",
    "import scipy.stats as stat\n",
    "import scipy.cluster as cluster\n",
    "import seaborn as sns\n",
    "import matplotlib.pyplot as plt"
   ]
  },
  {
   "cell_type": "code",
   "execution_count": 4,
   "id": "velvet-council",
   "metadata": {},
   "outputs": [
    {
     "name": "stderr",
     "output_type": "stream",
     "text": [
      "C:\\Users\\charl\\anaconda3\\lib\\site-packages\\IPython\\core\\interactiveshell.py:3063: DtypeWarning: Columns (0,2,3) have mixed types.Specify dtype option on import or set low_memory=False.\n",
      "  interactivity=interactivity, compiler=compiler, result=result)\n"
     ]
    },
    {
     "data": {
      "text/html": [
       "<div>\n",
       "<style scoped>\n",
       "    .dataframe tbody tr th:only-of-type {\n",
       "        vertical-align: middle;\n",
       "    }\n",
       "\n",
       "    .dataframe tbody tr th {\n",
       "        vertical-align: top;\n",
       "    }\n",
       "\n",
       "    .dataframe thead th {\n",
       "        text-align: right;\n",
       "    }\n",
       "</style>\n",
       "<table border=\"1\" class=\"dataframe\">\n",
       "  <thead>\n",
       "    <tr style=\"text-align: right;\">\n",
       "      <th></th>\n",
       "      <th>CODEARTICLE</th>\n",
       "      <th>CODEUNIVERS</th>\n",
       "      <th>CODEFAMILLE</th>\n",
       "      <th>CODESOUSFAMILLE</th>\n",
       "    </tr>\n",
       "  </thead>\n",
       "  <tbody>\n",
       "    <tr>\n",
       "      <th>0</th>\n",
       "      <td>COUPON</td>\n",
       "      <td>COUPON</td>\n",
       "      <td>COUPON</td>\n",
       "      <td>COUPON</td>\n",
       "    </tr>\n",
       "    <tr>\n",
       "      <th>1</th>\n",
       "      <td>1001</td>\n",
       "      <td>U2</td>\n",
       "      <td>130</td>\n",
       "      <td>130040</td>\n",
       "    </tr>\n",
       "    <tr>\n",
       "      <th>2</th>\n",
       "      <td>100125</td>\n",
       "      <td>U1</td>\n",
       "      <td>010</td>\n",
       "      <td>010020</td>\n",
       "    </tr>\n",
       "    <tr>\n",
       "      <th>3</th>\n",
       "      <td>100150</td>\n",
       "      <td>U1</td>\n",
       "      <td>010</td>\n",
       "      <td>010020</td>\n",
       "    </tr>\n",
       "    <tr>\n",
       "      <th>4</th>\n",
       "      <td>10018</td>\n",
       "      <td>U1</td>\n",
       "      <td>100</td>\n",
       "      <td>100900</td>\n",
       "    </tr>\n",
       "  </tbody>\n",
       "</table>\n",
       "</div>"
      ],
      "text/plain": [
       "  CODEARTICLE CODEUNIVERS CODEFAMILLE CODESOUSFAMILLE\n",
       "0      COUPON      COUPON      COUPON          COUPON\n",
       "1        1001          U2         130          130040\n",
       "2      100125          U1         010          010020\n",
       "3      100150          U1         010          010020\n",
       "4       10018          U1         100          100900"
      ]
     },
     "execution_count": 4,
     "metadata": {},
     "output_type": "execute_result"
    }
   ],
   "source": [
    "REF_ARTICLE = pd.read_csv(\"REF_ARTICLE.csv\", delimiter=\"|\")\n",
    "df = REF_ARTICLE\n",
    "df.head()"
   ]
  },
  {
   "cell_type": "code",
   "execution_count": 5,
   "id": "capital-interstate",
   "metadata": {},
   "outputs": [
    {
     "data": {
      "text/plain": [
       "CODEARTICLE        object\n",
       "CODEUNIVERS        object\n",
       "CODEFAMILLE        object\n",
       "CODESOUSFAMILLE    object\n",
       "dtype: object"
      ]
     },
     "execution_count": 5,
     "metadata": {},
     "output_type": "execute_result"
    }
   ],
   "source": [
    "df.dtypes"
   ]
  },
  {
   "cell_type": "code",
   "execution_count": 6,
   "id": "beneficial-findings",
   "metadata": {},
   "outputs": [
    {
     "data": {
      "text/plain": [
       "(665946, 4)"
      ]
     },
     "execution_count": 6,
     "metadata": {},
     "output_type": "execute_result"
    }
   ],
   "source": [
    "df.shape"
   ]
  },
  {
   "cell_type": "code",
   "execution_count": 7,
   "id": "pointed-audio",
   "metadata": {},
   "outputs": [
    {
     "data": {
      "text/plain": [
       "False    665946\n",
       "dtype: int64"
      ]
     },
     "execution_count": 7,
     "metadata": {},
     "output_type": "execute_result"
    }
   ],
   "source": [
    "dup = df.duplicated().value_counts()\n",
    "dup"
   ]
  },
  {
   "cell_type": "code",
   "execution_count": 9,
   "id": "weighted-medicare",
   "metadata": {},
   "outputs": [
    {
     "data": {
      "text/plain": [
       "CODEARTICLE        665946\n",
       "CODEUNIVERS             6\n",
       "CODEFAMILLE            50\n",
       "CODESOUSFAMILLE       630\n",
       "dtype: int64"
      ]
     },
     "execution_count": 9,
     "metadata": {},
     "output_type": "execute_result"
    }
   ],
   "source": [
    "df.nunique()"
   ]
  },
  {
   "cell_type": "code",
   "execution_count": null,
   "id": "boring-region",
   "metadata": {},
   "outputs": [],
   "source": [
    "Qu'est"
   ]
  }
 ],
 "metadata": {
  "kernelspec": {
   "display_name": "Python 3",
   "language": "python",
   "name": "python3"
  },
  "language_info": {
   "codemirror_mode": {
    "name": "ipython",
    "version": 3
   },
   "file_extension": ".py",
   "mimetype": "text/x-python",
   "name": "python",
   "nbconvert_exporter": "python",
   "pygments_lexer": "ipython3",
   "version": "3.7.6"
  }
 },
 "nbformat": 4,
 "nbformat_minor": 5
}
